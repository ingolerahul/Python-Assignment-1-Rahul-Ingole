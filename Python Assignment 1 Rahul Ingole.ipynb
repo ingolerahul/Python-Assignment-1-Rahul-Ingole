{
 "cells": [
  {
   "cell_type": "markdown",
   "id": "8927f4eb-ba63-4612-80fa-02c775e4f007",
   "metadata": {},
   "source": [
    "Q1. Create one variable containing following type of data:\n",
    "\n",
    "(i) string\n",
    "\n",
    "(ii) list\n",
    "\n",
    "(iii) float\n",
    "\n",
    "(iv) tuple\n",
    "\n"
   ]
  },
  {
   "cell_type": "code",
   "execution_count": 5,
   "id": "70b7010b-57ec-47e7-b20d-d22b948e88e4",
   "metadata": {},
   "outputs": [],
   "source": [
    "Ans Q1=\"Rahul\", ['viva','sana','Roshan'], 13.5, (1,2,3)"
   ]
  },
  {
   "cell_type": "markdown",
   "id": "e02e24a6-81b2-41e5-b452-bc073f59e609",
   "metadata": {},
   "source": [
    "Q2. Given are some following variables containing data:\n",
    "\n",
    "(i) var1 = ‘ ‘\n",
    "\n",
    "(ii) var2 = ‘[ DS , ML , Python]’\n",
    "\n",
    "(iii) var3 = [ ‘DS’ , ’ML’ , ‘Python’ ]\n",
    "\n",
    "(iv) var4 = 1.\n",
    "\n",
    "What will be the data type of the above given variable.\n",
    "\n"
   ]
  },
  {
   "cell_type": "markdown",
   "id": "74be38e5-4449-40c1-95fb-9612b94d4944",
   "metadata": {},
   "source": [
    "Ans Q2. \n",
    "\n",
    "(i) var1 = String\n",
    "\n",
    "(ii) var2 = String\n",
    "\n",
    "(iii) var3 = List\n",
    "\n",
    "(iv) var4 = Intiger\n"
   ]
  },
  {
   "cell_type": "markdown",
   "id": "3ee08ffd-ea8b-44af-966d-184ef498c6e7",
   "metadata": {},
   "source": [
    "Q3. Explain the use of the following operators using an example:\n",
    "\n",
    "(i) /\n",
    "\n",
    "(ii) %\n",
    "(iii) //\n",
    "\n",
    "(iv) **\n",
    "\n"
   ]
  },
  {
   "cell_type": "markdown",
   "id": "9dda88e4-8105-4114-bec6-a419b0345a7e",
   "metadata": {},
   "source": [
    "Ans Q3. \n",
    "\n",
    "(i) / operator is used for division it can also performs floating-point division.\n",
    "\n",
    "(ii) % operator is used as the modulo operator,It returns the remainder as output.\n",
    "\n",
    "(iii) // operator to perform integer division, it will always shows whole intiger not floating figur.\n",
    "\n",
    "(iv) ** it  is exponent operator always used for raised to the power \n"
   ]
  },
  {
   "cell_type": "markdown",
   "id": "7b3d01e3-41d8-4886-95f1-46cf95d666eb",
   "metadata": {},
   "source": [
    "Q4. Create a list of length 10 of your choice containing multiple types of data. Using for loop print the\n",
    "element and its data type.\n",
    "\n"
   ]
  },
  {
   "cell_type": "code",
   "execution_count": 29,
   "id": "eeda9ffb-e7ba-44c6-b8e8-b402ea6bbac8",
   "metadata": {},
   "outputs": [
    {
     "name": "stdout",
     "output_type": "stream",
     "text": [
      "42 <class 'int'>\n",
      "viva <class 'str'>\n",
      "22.7 <class 'float'>\n",
      "True <class 'bool'>\n",
      "['Roshan', 'sana'] <class 'list'>\n",
      "{'Akshay': 'Neil', 'Roll No': 25} <class 'dict'>\n",
      "None <class 'NoneType'>\n",
      "(1, 2, 3) <class 'tuple'>\n",
      "5.6 <class 'float'>\n",
      "False <class 'bool'>\n"
     ]
    }
   ],
   "source": [
    "Rahul = [42, 'viva', 22.7, True, ['Roshan', 'sana'], {'Akshay': 'Neil', 'Roll No': 25}, None, (1, 2, 3), 5.6, False]\n",
    "\n",
    "for family in Rahul:\n",
    "    print(family, type(family))\n",
    "    "
   ]
  },
  {
   "cell_type": "markdown",
   "id": "53a95596-0a49-4bbc-89ee-c09776102d1c",
   "metadata": {},
   "source": [
    "Q5. Using a while loop, verify if the number A is purely divisible by number B and if so then how many\n",
    "times it can be divisible."
   ]
  },
  {
   "cell_type": "code",
   "execution_count": 34,
   "id": "a276109f-b171-43af-a172-7c8f7785864e",
   "metadata": {},
   "outputs": [
    {
     "name": "stdout",
     "output_type": "stream",
     "text": [
      " A is divisible by number B three times.\n"
     ]
    }
   ],
   "source": [
    "\n",
    "A = 9\n",
    "B = 3\n",
    "count = 0\n",
    "while A % B == 0:\n",
    "    A = A // B\n",
    "    count += 1\n",
    "\n",
    "if count > 0:\n",
    "    print(\" A is divisible by number B three times.\")\n",
    "else:\n",
    "    print(\"Number A is not divisible by number B.\")"
   ]
  },
  {
   "cell_type": "markdown",
   "id": "3618538c-6be7-4333-86db-d2a0bee0fc2c",
   "metadata": {},
   "source": [
    "Q6. Create a list containing 25 int type data. Using for loop and if-else condition print if the element is\n",
    "divisible by 3 or not.\n",
    "\n"
   ]
  },
  {
   "cell_type": "code",
   "execution_count": 61,
   "id": "9aa53058-bf0a-41c1-87e5-0e491d5d4179",
   "metadata": {},
   "outputs": [
    {
     "name": "stdout",
     "output_type": "stream",
     "text": [
      "Element is not divisible by 3\n",
      "Element is not divisible by 3\n",
      "Element is divisible by 3\n",
      "Element is not divisible by 3\n",
      "Element is not divisible by 3\n",
      "Element is divisible by 3\n",
      "Element is not divisible by 3\n",
      "Element is not divisible by 3\n",
      "Element is divisible by 3\n",
      "Element is not divisible by 3\n",
      "Element is not divisible by 3\n",
      "Element is divisible by 3\n",
      "Element is not divisible by 3\n",
      "Element is not divisible by 3\n",
      "Element is not divisible by 3\n",
      "Element is not divisible by 3\n",
      "Element is divisible by 3\n",
      "Element is divisible by 3\n",
      "Element is not divisible by 3\n",
      "Element is not divisible by 3\n",
      "Element is not divisible by 3\n",
      "Element is not divisible by 3\n",
      "Element is not divisible by 3\n",
      "Element is divisible by 3\n",
      "Element is divisible by 3\n"
     ]
    }
   ],
   "source": [
    "X=[1,2,3,4,5,6,77,8,99,11,22,33,55,44,98,77,27,24,83,94,17,25,98,24,87]\n",
    "           \n",
    "for Y in X:\n",
    "    if Y % 3 == 0:\n",
    "        print(\"Element is divisible by 3\")\n",
    "    else:\n",
    "        print(\"Element is not divisible by 3\")          \n",
    "            \n",
    "        \n"
   ]
  },
  {
   "cell_type": "markdown",
   "id": "95ac1f42-388b-44b0-832f-d203ffbf2cde",
   "metadata": {},
   "source": [
    "Q7. What do you understand about mutable and immutable data types? Give examples for both showing\n",
    "this property."
   ]
  },
  {
   "cell_type": "markdown",
   "id": "7b28408b-5d57-4882-869e-cd621dd736ab",
   "metadata": {},
   "source": [
    "Ans Q7 . In Mutable we can change the data ormodify the data Example  lists, dictionaries, sets.\n",
    "\n",
    "In Immutable we cant change or modify the data Example integers, floats, strings, tuples."
   ]
  },
  {
   "cell_type": "code",
   "execution_count": null,
   "id": "a27b1376-341f-47ef-8ed9-eee12a671eeb",
   "metadata": {},
   "outputs": [],
   "source": []
  }
 ],
 "metadata": {
  "kernelspec": {
   "display_name": "Python 3 (ipykernel)",
   "language": "python",
   "name": "python3"
  },
  "language_info": {
   "codemirror_mode": {
    "name": "ipython",
    "version": 3
   },
   "file_extension": ".py",
   "mimetype": "text/x-python",
   "name": "python",
   "nbconvert_exporter": "python",
   "pygments_lexer": "ipython3",
   "version": "3.10.8"
  }
 },
 "nbformat": 4,
 "nbformat_minor": 5
}
